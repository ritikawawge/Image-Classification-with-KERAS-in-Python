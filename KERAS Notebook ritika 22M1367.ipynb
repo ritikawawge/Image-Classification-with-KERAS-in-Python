{
 "cells": [
  {
   "cell_type": "markdown",
   "metadata": {},
   "source": [
    "# Image Classification with CNN using Keras"
   ]
  },
  {
   "cell_type": "markdown",
   "metadata": {},
   "source": [
    "# Task 1: Import Libraries"
   ]
  },
  {
   "cell_type": "code",
   "execution_count": null,
   "metadata": {},
   "outputs": [],
   "source": [
    "import tensorflow as tf\n",
    "import os\n",
    "import numpy as np\n",
    "\n",
    "from matplotlib import pyplot as plt\n",
    "%matplotlib inline\n",
    "\n",
    "if not os.path.isdir('models'):\n",
    "    os.mkdir('models')\n",
    "    \n",
    "print('TensorFlow version:', tf.__version__)\n",
    "print('Is using GPU?', tf.test.is_gpu_available())"
   ]
  },
  {
   "cell_type": "markdown",
   "metadata": {},
   "source": [
    "# Task 2: Preprocess Data"
   ]
  },
  {
   "cell_type": "code",
   "execution_count": null,
   "metadata": {},
   "outputs": [],
   "source": [
    "def get_three_classes(x, y):\n",
    "    indices_0, _ = np.where(y == 0.)\n",
    "    indices_1, _ = np.where(y == 1.)\n",
    "    indices_2, _ = np.where(y == 2.)\n",
    "    indices_3, _ = np.where(y == 3.)\n",
    "    indices_4, _ = np.where(y == 4.)\n",
    "    indices_5, _ = np.where(y == 5.)\n",
    "    indices_6, _ = np.where(y == 6.)\n",
    "    indices_7, _ = np.where(y == 7.)\n",
    "    indices_8, _ = np.where(y == 8.)\n",
    "    indices_9, _ = np.where(y == 9.)\n",
    "    print(indices_0.shape,indices_1.shape,indices_2.shape)\n",
    "\n",
    "    indices = np.concatenate([indices_0, indices_1, indices_2, indices_3, indices_4,indices_5,indices_6,indices_7,indices_9,indices_8], axis=0)\n",
    "    print(indices.shape)\n",
    "    \n",
    "    x = x[indices]\n",
    "    y = y[indices]\n",
    "    print(x,y)\n",
    "    \n",
    "    count = x.shape[0]\n",
    "    print(count)\n",
    "    indices = np.random.choice(range(count), count, replace=False)\n",
    "    print(indices)\n",
    "    \n",
    "    x = x[indices]\n",
    "    y = y[indices]\n",
    "    print(x,y)\n",
    "    \n",
    "    y = tf.keras.utils.to_categorical(y)\n",
    "    print(y)\n",
    "    \n",
    "    return x, y"
   ]
  },
  {
   "cell_type": "code",
   "execution_count": null,
   "metadata": {},
   "outputs": [],
   "source": [
    "(x_train, y_train), (x_test, y_test) = tf.keras.datasets.cifar10.load_data()\n",
    "x_train, y_train = get_three_classes(x_train, y_train)\n",
    "x_test, y_test = get_three_classes(x_test, y_test)\n",
    "\n",
    "print(x_train.shape, y_train.shape)\n",
    "print(x_test.shape, y_test.shape)"
   ]
  },
  {
   "cell_type": "markdown",
   "metadata": {},
   "source": [
    "# Task 3: Visualize Examples"
   ]
  },
  {
   "cell_type": "code",
   "execution_count": null,
   "metadata": {},
   "outputs": [],
   "source": [
    "class_names = ['airplane','automobile','bird','cat','deer','dog','frog','horse','ship','truck']\n",
    "\n",
    "def show_random_examples(x ,y ,p):\n",
    "    indices = np.random.choice(range(x.shape[0]), 12, replace= False)\n",
    "    \n",
    "    x = x[indices]\n",
    "    y = y[indices]\n",
    "    p = p[indices]\n",
    "    plt.figure( figsize= (12, 5))\n",
    "    for i in range(12):\n",
    "        plt.subplot( 2 , 6 , 1+ i)\n",
    "        plt.imshow(x[i])\n",
    "        plt.xticks([])\n",
    "        plt.yticks([])\n",
    "        col = 'green' if np.argmax(y[i]) == np.argmax(p[i]) else 'red'\n",
    "        plt.xlabel(class_names[np.argmax(p[i])], color=col)\n",
    "    plt.show()\n",
    "\n",
    "show_random_examples(x_train, y_train, y_train)"
   ]
  },
  {
   "cell_type": "code",
   "execution_count": null,
   "metadata": {},
   "outputs": [],
   "source": [
    "show_random_examples(x_test, y_test, y_test)"
   ]
  },
  {
   "cell_type": "markdown",
   "metadata": {},
   "source": [
    "# Task 4: Create Model"
   ]
  },
  {
   "cell_type": "code",
   "execution_count": null,
   "metadata": {},
   "outputs": [],
   "source": [
    "from tensorflow.keras.layers import Conv2D, MaxPooling2D, BatchNormalization\n",
    "from tensorflow.keras.layers import Dropout, Flatten, Input, Dense\n",
    "\n",
    "def create_model():\n",
    "    def add_conv_block(model, num_filters):\n",
    "        model.add(Conv2D(num_filters, 3, activation='relu', padding = 'same'))\n",
    "        model.add(BatchNormalization())\n",
    "        model.add(Conv2D(num_filters, 3, activation='relu'))\n",
    "        model.add(MaxPooling2D(pool_size=2))\n",
    "        model.add(Dropout(0.5))\n",
    "        return model\n",
    "    \n",
    "    model = tf.keras.models.Sequential()\n",
    "    model.add(Input(shape=(32,32,3)))\n",
    "    \n",
    "    model = add_conv_block(model, 32)\n",
    "    #model = add_conv_block(model, 32)\n",
    "    model = add_conv_block(model, 64)\n",
    "    #model = add_conv_block(model, 64)\n",
    "    model = add_conv_block(model, 128)\n",
    "    #model = add_conv_block(model, 128)\n",
    "    \n",
    "    model.add(Flatten())\n",
    "    model.add(Dense(10,activation = 'softmax'))\n",
    "    \n",
    "    model.compile(\n",
    "        loss = 'categorical_crossentropy',\n",
    "        optimizer='adam', metrics=['accuracy']\n",
    "    )\n",
    "    \n",
    "    return model\n",
    "\n",
    "model = create_model()\n",
    "model.summary()"
   ]
  },
  {
   "cell_type": "markdown",
   "metadata": {},
   "source": [
    "# Task 5: Train the Model"
   ]
  },
  {
   "cell_type": "code",
   "execution_count": null,
   "metadata": {
    "scrolled": false
   },
   "outputs": [],
   "source": [
    "h = model.fit(x_train/255., y_train, validation_data=(x_test/255.,y_test),\n",
    "             epochs=15, batch_size=128,\n",
    "             callbacks=[\n",
    "                 tf.keras.callbacks.EarlyStopping(monitor = 'val_accuracy', patience = 3)\n",
    "                 \n",
    "             ]\n",
    "        )"
   ]
  },
  {
   "cell_type": "markdown",
   "metadata": {},
   "source": [
    "# Task 6: Final Predictions"
   ]
  },
  {
   "cell_type": "code",
   "execution_count": null,
   "metadata": {},
   "outputs": [],
   "source": [
    "accs = h.history['accuracy']\n",
    "val_accs = h.history['val_accuracy']\n",
    "\n",
    "plt.plot(range(len(accs)), accs, label='Training')\n",
    "plt.plot(range(len(accs)), val_accs, label='Validation')\n",
    "plt.legend()\n",
    "plt.show()"
   ]
  },
  {
   "cell_type": "code",
   "execution_count": null,
   "metadata": {},
   "outputs": [],
   "source": [
    "pred = model.predict(x_test/255.)"
   ]
  },
  {
   "cell_type": "code",
   "execution_count": null,
   "metadata": {},
   "outputs": [],
   "source": [
    "show_random_examples(x_test,y_test, pred)"
   ]
  },
  {
   "cell_type": "code",
   "execution_count": null,
   "metadata": {},
   "outputs": [],
   "source": []
  }
 ],
 "metadata": {
  "kernelspec": {
   "display_name": "Python 3",
   "language": "python",
   "name": "python3"
  },
  "language_info": {
   "codemirror_mode": {
    "name": "ipython",
    "version": 3
   },
   "file_extension": ".py",
   "mimetype": "text/x-python",
   "name": "python",
   "nbconvert_exporter": "python",
   "pygments_lexer": "ipython3",
   "version": "3.8.8"
  }
 },
 "nbformat": 4,
 "nbformat_minor": 2
}
